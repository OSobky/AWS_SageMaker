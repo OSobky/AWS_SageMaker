{
 "cells": [
  {
   "cell_type": "code",
   "execution_count": 2,
   "id": "592be1e2",
   "metadata": {},
   "outputs": [
    {
     "name": "stdout",
     "output_type": "stream",
     "text": [
      "arn:aws:iam::461627159302:role/service-role/AmazonSageMaker-ExecutionRole-20210606T021197\n",
      "CPU times: user 268 ms, sys: 25.7 ms, total: 293 ms\n",
      "Wall time: 450 ms\n"
     ]
    },
    {
     "data": {
      "text/plain": [
       "'sagemaker-eu-west-1-461627159302'"
      ]
     },
     "execution_count": 2,
     "metadata": {},
     "output_type": "execute_result"
    }
   ],
   "source": [
    "%%time\n",
    "import sagemaker\n",
    "from sagemaker import get_execution_role\n",
    "\n",
    "role = get_execution_role()\n",
    "print(role)\n",
    "sess = sagemaker.Session()\n",
    "BUCKET = sess.default_bucket()\n",
    "PREFIX = 'input'\n",
    "BUCKET"
   ]
  },
  {
   "cell_type": "code",
   "execution_count": 3,
   "id": "1c65d19f",
   "metadata": {},
   "outputs": [
    {
     "name": "stdout",
     "output_type": "stream",
     "text": [
      "--2021-06-20 19:22:56--  http://aws-tc-largeobjects.s3-us-west-2.amazonaws.com/DIG-TF-200-MLBEES-10-EN/dataset.zip\n",
      "Resolving aws-tc-largeobjects.s3-us-west-2.amazonaws.com (aws-tc-largeobjects.s3-us-west-2.amazonaws.com)... 52.92.161.146\n",
      "Connecting to aws-tc-largeobjects.s3-us-west-2.amazonaws.com (aws-tc-largeobjects.s3-us-west-2.amazonaws.com)|52.92.161.146|:80... connected.\n",
      "HTTP request sent, awaiting response... 200 OK\n",
      "Length: 70375947 (67M) [application/x-zip-compressed]\n",
      "Saving to: ‘dataset.zip’\n",
      "\n",
      "dataset.zip         100%[===================>]  67.12M  6.94MB/s    in 8.8s    \n",
      "\n",
      "2021-06-20 19:23:06 (7.59 MB/s) - ‘dataset.zip’ saved [70375947/70375947]\n",
      "\n"
     ]
    }
   ],
   "source": [
    "!wget http://aws-tc-largeobjects.s3-us-west-2.amazonaws.com/DIG-TF-200-MLBEES-10-EN/dataset.zip \n",
    "!unzip -qo dataset.zip"
   ]
  },
  {
   "cell_type": "code",
   "execution_count": 4,
   "id": "d227e4f3",
   "metadata": {},
   "outputs": [
    {
     "name": "stdout",
     "output_type": "stream",
     "text": [
      "   251027  05-15-2019 19:21   9530124.jpg\n",
      "   110561  05-15-2019 19:21   9542264.jpg\n",
      "   312354  05-15-2019 19:21   9543188.jpg\n",
      "    76903  05-15-2019 19:21   9637165.jpg\n",
      "    48663  05-15-2019 19:21   9765741.jpg\n",
      "    66393  05-15-2019 19:21   9787032.jpg\n",
      "   273392  05-22-2019 21:58   output.manifest\n",
      "        0  06-01-2019 05:51   test/\n",
      "    83438  06-01-2019 05:51   test/22427594.jpg\n",
      "   152133  06-01-2019 05:51   test/22469656.jpg\n",
      "   205930  06-01-2019 05:51   test/22544384.jpg\n",
      "   137755  06-01-2019 05:51   test/22673445.jpg\n",
      "   124565  06-01-2019 05:51   test/22741822.jpg\n",
      "    39502  06-01-2019 05:51   test/22774999.jpg\n",
      "    39086  06-01-2019 05:51   test/22775000.jpg\n",
      "   149389  06-01-2019 05:51   test/22901964.jpg\n",
      "   103322  06-01-2019 05:51   test/22971237.jpg\n",
      "   109178  06-01-2019 05:51   test/23086755.jpg\n",
      "---------                     -------\n",
      " 70635014                     512 files\n"
     ]
    }
   ],
   "source": [
    "!unzip -l dataset.zip | tail -20"
   ]
  },
  {
   "cell_type": "code",
   "execution_count": null,
   "id": "c480d500",
   "metadata": {},
   "outputs": [],
   "source": []
  }
 ],
 "metadata": {
  "kernelspec": {
   "display_name": "conda_mxnet_p36",
   "language": "python",
   "name": "conda_mxnet_p36"
  },
  "language_info": {
   "codemirror_mode": {
    "name": "ipython",
    "version": 3
   },
   "file_extension": ".py",
   "mimetype": "text/x-python",
   "name": "python",
   "nbconvert_exporter": "python",
   "pygments_lexer": "ipython3",
   "version": "3.6.13"
  }
 },
 "nbformat": 4,
 "nbformat_minor": 5
}
